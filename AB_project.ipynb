{
 "cells": [
  {
   "cell_type": "markdown",
   "id": "596ecd43-6f6d-4f66-b1ee-7f5ba559c5f7",
   "metadata": {},
   "source": [
    "# Продуктовый анализ данных на основе проведенного A/B теста"
   ]
  },
  {
   "cell_type": "markdown",
   "id": "a7191e08-99b8-466c-b98f-39d05509c163",
   "metadata": {},
   "source": [
    "## Описание проекта\n",
    "\n",
    "**Задача:** Провести продуктовый анализа данных на основе A/B теста. Проверить, исменился ли конверсия (покупка через сайт), после реддизайна главной страницы на основе данных таблицы.\n",
    "\n",
    "**Используемый стек:**\n",
    "- Python • Pandas • Matplotlib • Seaborn • Scipy\n",
    "- **Методы:** Data Cleaning, Визуализация, \n",
    "\n",
    "**Ключевые этапы анализа:**\n",
    "1. Первичный осмотр и оценка качества данных\n",
    "2. Предобработка\n",
    "3. Формулировка гипотез\n",
    "4. Проверка гипотез\n",
    "5. Формулировка бизнес-инсайтов и выводов\n",
    "\n",
    "**О наборе данных:**\n",
    "Имеется два набора данных. Первый набор (df_1) содержит 294480 строк, включает в себя данные о A/B группе пользователя и совершил ли он целевое действие. Второй датасет (df_2) содержит 290585 строк и данные о стране пользователя."
   ]
  },
  {
   "cell_type": "markdown",
   "id": "cd9055e0-0fe2-413b-8627-217062dbf058",
   "metadata": {},
   "source": [
    "## Колонки таблицы\n",
    "\n",
    "***df_1 ('ab_data.csv')***   \n",
    "**user_id** - уникальный идентификатор пользователя  \n",
    "**timestamp** - время посещения сайта  \n",
    "**group** - группа эксперимента (\"control\" или \"treatment\")  \n",
    "**landing_page** - какая версия страницы была показана (old_page или new_page)  \n",
    "**converted** - флаг: 1 — пользователь “конвертировал” (выполнил целевое действие), 0 — не конвертировал\n",
    "\n",
    "***df_2 ('countries.csv')***  \n",
    "**user_id** - уникальный идентификатор пользователя  \n",
    "**country** - страна пользователя (US, UK, CA)"
   ]
  },
  {
   "cell_type": "markdown",
   "id": "1ab373aa-8d4b-40c7-afd1-d4e8c36e01c1",
   "metadata": {},
   "source": [
    "## 1. Импорт библиотек, загрузка данных и первоначальное исследование"
   ]
  },
  {
   "cell_type": "code",
   "execution_count": 603,
   "id": "548eeb08-da97-48a6-9b8d-4021c730e653",
   "metadata": {},
   "outputs": [],
   "source": [
    "import pandas as pd\n",
    "import matplotlib.pyplot as plt\n",
    "import seaborn as sns\n",
    "from scipy import stats as st\n",
    "from statsmodels.stats.proportion import proportions_ztest"
   ]
  },
  {
   "cell_type": "code",
   "execution_count": 433,
   "id": "13266308-d001-4fd3-baa8-394e308f9e42",
   "metadata": {},
   "outputs": [
    {
     "data": {
      "text/html": [
       "<div>\n",
       "<style scoped>\n",
       "    .dataframe tbody tr th:only-of-type {\n",
       "        vertical-align: middle;\n",
       "    }\n",
       "\n",
       "    .dataframe tbody tr th {\n",
       "        vertical-align: top;\n",
       "    }\n",
       "\n",
       "    .dataframe thead th {\n",
       "        text-align: right;\n",
       "    }\n",
       "</style>\n",
       "<table border=\"1\" class=\"dataframe\">\n",
       "  <thead>\n",
       "    <tr style=\"text-align: right;\">\n",
       "      <th></th>\n",
       "      <th>user_id</th>\n",
       "      <th>timestamp</th>\n",
       "      <th>group</th>\n",
       "      <th>landing_page</th>\n",
       "      <th>converted</th>\n",
       "    </tr>\n",
       "  </thead>\n",
       "  <tbody>\n",
       "    <tr>\n",
       "      <th>0</th>\n",
       "      <td>851104</td>\n",
       "      <td>11:48.6</td>\n",
       "      <td>control</td>\n",
       "      <td>old_page</td>\n",
       "      <td>0</td>\n",
       "    </tr>\n",
       "    <tr>\n",
       "      <th>1</th>\n",
       "      <td>804228</td>\n",
       "      <td>01:45.2</td>\n",
       "      <td>control</td>\n",
       "      <td>old_page</td>\n",
       "      <td>0</td>\n",
       "    </tr>\n",
       "    <tr>\n",
       "      <th>2</th>\n",
       "      <td>661590</td>\n",
       "      <td>55:06.2</td>\n",
       "      <td>treatment</td>\n",
       "      <td>new_page</td>\n",
       "      <td>0</td>\n",
       "    </tr>\n",
       "    <tr>\n",
       "      <th>3</th>\n",
       "      <td>853541</td>\n",
       "      <td>28:03.1</td>\n",
       "      <td>treatment</td>\n",
       "      <td>new_page</td>\n",
       "      <td>0</td>\n",
       "    </tr>\n",
       "    <tr>\n",
       "      <th>4</th>\n",
       "      <td>864975</td>\n",
       "      <td>52:26.2</td>\n",
       "      <td>control</td>\n",
       "      <td>old_page</td>\n",
       "      <td>1</td>\n",
       "    </tr>\n",
       "  </tbody>\n",
       "</table>\n",
       "</div>"
      ],
      "text/plain": [
       "   user_id timestamp      group landing_page  converted\n",
       "0   851104   11:48.6    control     old_page          0\n",
       "1   804228   01:45.2    control     old_page          0\n",
       "2   661590   55:06.2  treatment     new_page          0\n",
       "3   853541   28:03.1  treatment     new_page          0\n",
       "4   864975   52:26.2    control     old_page          1"
      ]
     },
     "execution_count": 433,
     "metadata": {},
     "output_type": "execute_result"
    }
   ],
   "source": [
    "df_1 = pd.read_csv('ab_data.csv')\n",
    "df_1.head()"
   ]
  },
  {
   "cell_type": "code",
   "execution_count": 242,
   "id": "8ce1d31f-775b-43c5-ac4d-3a67b5c7f855",
   "metadata": {},
   "outputs": [
    {
     "name": "stdout",
     "output_type": "stream",
     "text": [
      "<class 'pandas.core.frame.DataFrame'>\n",
      "RangeIndex: 294480 entries, 0 to 294479\n",
      "Data columns (total 5 columns):\n",
      " #   Column        Non-Null Count   Dtype \n",
      "---  ------        --------------   ----- \n",
      " 0   user_id       294480 non-null  int64 \n",
      " 1   timestamp     294480 non-null  object\n",
      " 2   group         294480 non-null  object\n",
      " 3   landing_page  294480 non-null  object\n",
      " 4   converted     294480 non-null  int64 \n",
      "dtypes: int64(2), object(3)\n",
      "memory usage: 11.2+ MB\n"
     ]
    }
   ],
   "source": [
    "df_1.info()"
   ]
  },
  {
   "cell_type": "code",
   "execution_count": 254,
   "id": "0bfbb107-7366-4bd3-8766-f24968a0c2ef",
   "metadata": {},
   "outputs": [
    {
     "data": {
      "text/html": [
       "<div>\n",
       "<style scoped>\n",
       "    .dataframe tbody tr th:only-of-type {\n",
       "        vertical-align: middle;\n",
       "    }\n",
       "\n",
       "    .dataframe tbody tr th {\n",
       "        vertical-align: top;\n",
       "    }\n",
       "\n",
       "    .dataframe thead th {\n",
       "        text-align: right;\n",
       "    }\n",
       "</style>\n",
       "<table border=\"1\" class=\"dataframe\">\n",
       "  <thead>\n",
       "    <tr style=\"text-align: right;\">\n",
       "      <th></th>\n",
       "      <th>user_id</th>\n",
       "      <th>country</th>\n",
       "    </tr>\n",
       "  </thead>\n",
       "  <tbody>\n",
       "    <tr>\n",
       "      <th>0</th>\n",
       "      <td>834778</td>\n",
       "      <td>UK</td>\n",
       "    </tr>\n",
       "    <tr>\n",
       "      <th>1</th>\n",
       "      <td>928468</td>\n",
       "      <td>US</td>\n",
       "    </tr>\n",
       "    <tr>\n",
       "      <th>2</th>\n",
       "      <td>822059</td>\n",
       "      <td>UK</td>\n",
       "    </tr>\n",
       "    <tr>\n",
       "      <th>3</th>\n",
       "      <td>711597</td>\n",
       "      <td>UK</td>\n",
       "    </tr>\n",
       "    <tr>\n",
       "      <th>4</th>\n",
       "      <td>710616</td>\n",
       "      <td>UK</td>\n",
       "    </tr>\n",
       "  </tbody>\n",
       "</table>\n",
       "</div>"
      ],
      "text/plain": [
       "   user_id country\n",
       "0   834778      UK\n",
       "1   928468      US\n",
       "2   822059      UK\n",
       "3   711597      UK\n",
       "4   710616      UK"
      ]
     },
     "execution_count": 254,
     "metadata": {},
     "output_type": "execute_result"
    }
   ],
   "source": [
    "df_2 = pd.read_csv('countries.csv')\n",
    "df_2.head()"
   ]
  },
  {
   "cell_type": "code",
   "execution_count": 255,
   "id": "643f5cea-2416-4297-9182-c3c5478ac181",
   "metadata": {},
   "outputs": [
    {
     "name": "stdout",
     "output_type": "stream",
     "text": [
      "<class 'pandas.core.frame.DataFrame'>\n",
      "RangeIndex: 290586 entries, 0 to 290585\n",
      "Data columns (total 2 columns):\n",
      " #   Column   Non-Null Count   Dtype \n",
      "---  ------   --------------   ----- \n",
      " 0   user_id  290586 non-null  int64 \n",
      " 1   country  290586 non-null  object\n",
      "dtypes: int64(1), object(1)\n",
      "memory usage: 4.4+ MB\n"
     ]
    }
   ],
   "source": [
    "df_2.info()"
   ]
  },
  {
   "cell_type": "markdown",
   "id": "236fba91-9c22-4933-a528-7b16e1b35f94",
   "metadata": {},
   "source": [
    "## 2. Предобработка\n",
    "### 2.1 Проверка df_1 на дубликаты"
   ]
  },
  {
   "cell_type": "code",
   "execution_count": 448,
   "id": "1b2d4fea-a7f3-4f36-b85a-7c076c2ace3a",
   "metadata": {},
   "outputs": [
    {
     "name": "stdout",
     "output_type": "stream",
     "text": [
      "Кол-во явных дубликатов:  0\n"
     ]
    }
   ],
   "source": [
    "print(\"Кол-во явных дубликатов: \", df_1.duplicated().sum())"
   ]
  },
  {
   "cell_type": "markdown",
   "id": "2f78198d-b1cc-4673-83f3-2197499475e0",
   "metadata": {},
   "source": [
    "Проверим все ли user_id уникальны:"
   ]
  },
  {
   "cell_type": "code",
   "execution_count": 446,
   "id": "1457d553-a8f6-47e4-897f-a430ace2447f",
   "metadata": {},
   "outputs": [
    {
     "data": {
      "text/html": [
       "<div>\n",
       "<style scoped>\n",
       "    .dataframe tbody tr th:only-of-type {\n",
       "        vertical-align: middle;\n",
       "    }\n",
       "\n",
       "    .dataframe tbody tr th {\n",
       "        vertical-align: top;\n",
       "    }\n",
       "\n",
       "    .dataframe thead th {\n",
       "        text-align: right;\n",
       "    }\n",
       "</style>\n",
       "<table border=\"1\" class=\"dataframe\">\n",
       "  <thead>\n",
       "    <tr style=\"text-align: right;\">\n",
       "      <th></th>\n",
       "      <th>user_id</th>\n",
       "      <th>timestamp</th>\n",
       "      <th>group</th>\n",
       "      <th>landing_page</th>\n",
       "      <th>converted</th>\n",
       "    </tr>\n",
       "  </thead>\n",
       "  <tbody>\n",
       "    <tr>\n",
       "      <th>213114</th>\n",
       "      <td>630052</td>\n",
       "      <td>25:54.1</td>\n",
       "      <td>treatment</td>\n",
       "      <td>old_page</td>\n",
       "      <td>1</td>\n",
       "    </tr>\n",
       "    <tr>\n",
       "      <th>230259</th>\n",
       "      <td>630052</td>\n",
       "      <td>16:05.2</td>\n",
       "      <td>treatment</td>\n",
       "      <td>new_page</td>\n",
       "      <td>0</td>\n",
       "    </tr>\n",
       "    <tr>\n",
       "      <th>22513</th>\n",
       "      <td>630126</td>\n",
       "      <td>35:54.8</td>\n",
       "      <td>treatment</td>\n",
       "      <td>old_page</td>\n",
       "      <td>0</td>\n",
       "    </tr>\n",
       "    <tr>\n",
       "      <th>251762</th>\n",
       "      <td>630126</td>\n",
       "      <td>16:00.3</td>\n",
       "      <td>treatment</td>\n",
       "      <td>new_page</td>\n",
       "      <td>0</td>\n",
       "    </tr>\n",
       "    <tr>\n",
       "      <th>183371</th>\n",
       "      <td>630137</td>\n",
       "      <td>08:49.9</td>\n",
       "      <td>control</td>\n",
       "      <td>old_page</td>\n",
       "      <td>0</td>\n",
       "    </tr>\n",
       "    <tr>\n",
       "      <th>...</th>\n",
       "      <td>...</td>\n",
       "      <td>...</td>\n",
       "      <td>...</td>\n",
       "      <td>...</td>\n",
       "      <td>...</td>\n",
       "    </tr>\n",
       "    <tr>\n",
       "      <th>142354</th>\n",
       "      <td>945703</td>\n",
       "      <td>40:51.2</td>\n",
       "      <td>control</td>\n",
       "      <td>new_page</td>\n",
       "      <td>0</td>\n",
       "    </tr>\n",
       "    <tr>\n",
       "      <th>40370</th>\n",
       "      <td>945797</td>\n",
       "      <td>04:49.4</td>\n",
       "      <td>control</td>\n",
       "      <td>new_page</td>\n",
       "      <td>1</td>\n",
       "    </tr>\n",
       "    <tr>\n",
       "      <th>186960</th>\n",
       "      <td>945797</td>\n",
       "      <td>23:21.8</td>\n",
       "      <td>control</td>\n",
       "      <td>old_page</td>\n",
       "      <td>0</td>\n",
       "    </tr>\n",
       "    <tr>\n",
       "      <th>165143</th>\n",
       "      <td>945971</td>\n",
       "      <td>09:18.4</td>\n",
       "      <td>control</td>\n",
       "      <td>old_page</td>\n",
       "      <td>0</td>\n",
       "    </tr>\n",
       "    <tr>\n",
       "      <th>131756</th>\n",
       "      <td>945971</td>\n",
       "      <td>43:54.1</td>\n",
       "      <td>control</td>\n",
       "      <td>new_page</td>\n",
       "      <td>0</td>\n",
       "    </tr>\n",
       "  </tbody>\n",
       "</table>\n",
       "<p>7790 rows × 5 columns</p>\n",
       "</div>"
      ],
      "text/plain": [
       "        user_id timestamp      group landing_page  converted\n",
       "213114   630052   25:54.1  treatment     old_page          1\n",
       "230259   630052   16:05.2  treatment     new_page          0\n",
       "22513    630126   35:54.8  treatment     old_page          0\n",
       "251762   630126   16:00.3  treatment     new_page          0\n",
       "183371   630137   08:49.9    control     old_page          0\n",
       "...         ...       ...        ...          ...        ...\n",
       "142354   945703   40:51.2    control     new_page          0\n",
       "40370    945797   04:49.4    control     new_page          1\n",
       "186960   945797   23:21.8    control     old_page          0\n",
       "165143   945971   09:18.4    control     old_page          0\n",
       "131756   945971   43:54.1    control     new_page          0\n",
       "\n",
       "[7790 rows x 5 columns]"
      ]
     },
     "execution_count": 446,
     "metadata": {},
     "output_type": "execute_result"
    }
   ],
   "source": [
    "df_1[df_1['user_id'].duplicated(keep=False)].sort_values('user_id')"
   ]
  },
  {
   "cell_type": "markdown",
   "id": "2a56a667-fe0c-4e57-8e33-8ce1a38d7754",
   "metadata": {},
   "source": [
    "По таблице видно, что у нас расхождения в данных (у некоторых пользователей в обеих группах есть как новая, так и старая страницы), A/B-тест проведен грязно. Можно попытаться исправить ситуацию.  \n",
    "*Оставим только уникальных пользователей:*"
   ]
  },
  {
   "cell_type": "code",
   "execution_count": 458,
   "id": "320a5430-e9cb-4eb8-b194-b35a087de769",
   "metadata": {},
   "outputs": [
    {
     "data": {
      "text/html": [
       "<div>\n",
       "<style scoped>\n",
       "    .dataframe tbody tr th:only-of-type {\n",
       "        vertical-align: middle;\n",
       "    }\n",
       "\n",
       "    .dataframe tbody tr th {\n",
       "        vertical-align: top;\n",
       "    }\n",
       "\n",
       "    .dataframe thead th {\n",
       "        text-align: right;\n",
       "    }\n",
       "</style>\n",
       "<table border=\"1\" class=\"dataframe\">\n",
       "  <thead>\n",
       "    <tr style=\"text-align: right;\">\n",
       "      <th></th>\n",
       "      <th>user_id</th>\n",
       "      <th>timestamp</th>\n",
       "      <th>group</th>\n",
       "      <th>landing_page</th>\n",
       "      <th>converted</th>\n",
       "    </tr>\n",
       "  </thead>\n",
       "  <tbody>\n",
       "    <tr>\n",
       "      <th>250001</th>\n",
       "      <td>759899</td>\n",
       "      <td>07:36.1</td>\n",
       "      <td>treatment</td>\n",
       "      <td>new_page</td>\n",
       "      <td>0</td>\n",
       "    </tr>\n",
       "    <tr>\n",
       "      <th>294478</th>\n",
       "      <td>759899</td>\n",
       "      <td>20:29.0</td>\n",
       "      <td>treatment</td>\n",
       "      <td>new_page</td>\n",
       "      <td>0</td>\n",
       "    </tr>\n",
       "    <tr>\n",
       "      <th>1899</th>\n",
       "      <td>773192</td>\n",
       "      <td>37:58.8</td>\n",
       "      <td>treatment</td>\n",
       "      <td>new_page</td>\n",
       "      <td>0</td>\n",
       "    </tr>\n",
       "    <tr>\n",
       "      <th>2893</th>\n",
       "      <td>773192</td>\n",
       "      <td>55:59.6</td>\n",
       "      <td>treatment</td>\n",
       "      <td>new_page</td>\n",
       "      <td>0</td>\n",
       "    </tr>\n",
       "  </tbody>\n",
       "</table>\n",
       "</div>"
      ],
      "text/plain": [
       "        user_id timestamp      group landing_page  converted\n",
       "250001   759899   07:36.1  treatment     new_page          0\n",
       "294478   759899   20:29.0  treatment     new_page          0\n",
       "1899     773192   37:58.8  treatment     new_page          0\n",
       "2893     773192   55:59.6  treatment     new_page          0"
      ]
     },
     "execution_count": 458,
     "metadata": {},
     "output_type": "execute_result"
    }
   ],
   "source": [
    "# Оставим контрольную группу только со старой страницей, а тестируемую группу с новой\n",
    "df_1 = df_1[((df_1['group']=='control')&(df_1['landing_page']=='old_page'))|((df_1['group']=='treatment')&(df_1['landing_page']=='new_page'))]\n",
    "df_1[df_1['user_id'].duplicated(keep=False)].sort_values('user_id')"
   ]
  },
  {
   "cell_type": "markdown",
   "id": "6d1a5a9d-68de-41fb-a4b4-020855816769",
   "metadata": {},
   "source": [
    "Дубликаты по пользователю остались, но это уже повторные вхождения.  \n",
    "*Возьмем только первое вхождение:*"
   ]
  },
  {
   "cell_type": "code",
   "execution_count": 251,
   "id": "84ca5915-15d9-42b3-90f9-b6840358edcc",
   "metadata": {},
   "outputs": [],
   "source": [
    "df_1 = df_1.drop_duplicates(subset=['user_id'], keep='first')"
   ]
  },
  {
   "cell_type": "code",
   "execution_count": 252,
   "id": "8d8c8617-2554-4fa4-ae06-ac7f5149b6ba",
   "metadata": {},
   "outputs": [
    {
     "name": "stdout",
     "output_type": "stream",
     "text": [
      "<class 'pandas.core.frame.DataFrame'>\n",
      "Index: 290585 entries, 0 to 294479\n",
      "Data columns (total 5 columns):\n",
      " #   Column        Non-Null Count   Dtype \n",
      "---  ------        --------------   ----- \n",
      " 0   user_id       290585 non-null  int64 \n",
      " 1   timestamp     290585 non-null  object\n",
      " 2   group         290585 non-null  object\n",
      " 3   landing_page  290585 non-null  object\n",
      " 4   converted     290585 non-null  int64 \n",
      "dtypes: int64(2), object(3)\n",
      "memory usage: 13.3+ MB\n"
     ]
    }
   ],
   "source": [
    "df_1.info()"
   ]
  },
  {
   "cell_type": "markdown",
   "id": "d6107f72-d3a1-4639-99b1-bec692c88393",
   "metadata": {},
   "source": [
    "### 2.2 Проверка df_2 на дубликаты"
   ]
  },
  {
   "cell_type": "code",
   "execution_count": 256,
   "id": "5add1b3d-2c77-4efb-bd62-1bc303ad4640",
   "metadata": {},
   "outputs": [
    {
     "name": "stdout",
     "output_type": "stream",
     "text": [
      "1\n"
     ]
    }
   ],
   "source": [
    "print(df_2.duplicated().sum())"
   ]
  },
  {
   "cell_type": "code",
   "execution_count": 257,
   "id": "5bbd3486-3149-4a8c-924e-124aab1d6e89",
   "metadata": {},
   "outputs": [],
   "source": [
    "df_2 = df_2.drop_duplicates().reset_index(drop=True)"
   ]
  },
  {
   "cell_type": "markdown",
   "id": "f40067ad-8112-4254-8e9d-20d4b3317d2a",
   "metadata": {},
   "source": [
    "### 2.3 Соединение таблиц "
   ]
  },
  {
   "cell_type": "code",
   "execution_count": 260,
   "id": "1d36eda4-b5b3-43c2-8700-f5c35d11a8b9",
   "metadata": {},
   "outputs": [],
   "source": [
    "df = pd.merge(left=df_1, right=df_2, how='left', on='user_id')"
   ]
  },
  {
   "cell_type": "code",
   "execution_count": 261,
   "id": "147e738c-4928-4d7f-99fa-5fe5f8b6d35a",
   "metadata": {},
   "outputs": [
    {
     "name": "stdout",
     "output_type": "stream",
     "text": [
      "<class 'pandas.core.frame.DataFrame'>\n",
      "RangeIndex: 290585 entries, 0 to 290584\n",
      "Data columns (total 6 columns):\n",
      " #   Column        Non-Null Count   Dtype \n",
      "---  ------        --------------   ----- \n",
      " 0   user_id       290585 non-null  int64 \n",
      " 1   timestamp     290585 non-null  object\n",
      " 2   group         290585 non-null  object\n",
      " 3   landing_page  290585 non-null  object\n",
      " 4   converted     290585 non-null  int64 \n",
      " 5   country       290585 non-null  object\n",
      "dtypes: int64(2), object(4)\n",
      "memory usage: 13.3+ MB\n"
     ]
    }
   ],
   "source": [
    "df.info()"
   ]
  },
  {
   "cell_type": "code",
   "execution_count": 263,
   "id": "43c91f53-b366-40c7-824a-44a45de52295",
   "metadata": {},
   "outputs": [
    {
     "data": {
      "text/plain": [
       "0"
      ]
     },
     "execution_count": 263,
     "metadata": {},
     "output_type": "execute_result"
    }
   ],
   "source": [
    "df.duplicated().sum()"
   ]
  },
  {
   "cell_type": "markdown",
   "id": "92f15f5b-8148-4bf5-b0e0-1379ff61c224",
   "metadata": {},
   "source": [
    "Дубликатов после соединения не обнаружилось, пропущенных значений тоже.    \n",
    "\n",
    "### 2.4 Преобразование типов\n",
    "Приведем колонку timestamp к нормальному виду:"
   ]
  },
  {
   "cell_type": "code",
   "execution_count": 470,
   "id": "4119adf1-d71f-4caf-87c2-4542f80b6052",
   "metadata": {},
   "outputs": [
    {
     "data": {
      "text/html": [
       "<div>\n",
       "<style scoped>\n",
       "    .dataframe tbody tr th:only-of-type {\n",
       "        vertical-align: middle;\n",
       "    }\n",
       "\n",
       "    .dataframe tbody tr th {\n",
       "        vertical-align: top;\n",
       "    }\n",
       "\n",
       "    .dataframe thead th {\n",
       "        text-align: right;\n",
       "    }\n",
       "</style>\n",
       "<table border=\"1\" class=\"dataframe\">\n",
       "  <thead>\n",
       "    <tr style=\"text-align: right;\">\n",
       "      <th></th>\n",
       "      <th>user_id</th>\n",
       "      <th>timestamp</th>\n",
       "      <th>group</th>\n",
       "      <th>landing_page</th>\n",
       "      <th>converted</th>\n",
       "      <th>country</th>\n",
       "      <th>minutes</th>\n",
       "      <th>seconds</th>\n",
       "      <th>total_seconds</th>\n",
       "    </tr>\n",
       "  </thead>\n",
       "  <tbody>\n",
       "    <tr>\n",
       "      <th>0</th>\n",
       "      <td>851104</td>\n",
       "      <td>11:48.6</td>\n",
       "      <td>control</td>\n",
       "      <td>old_page</td>\n",
       "      <td>0</td>\n",
       "      <td>US</td>\n",
       "      <td>11</td>\n",
       "      <td>48.6</td>\n",
       "      <td>708.6</td>\n",
       "    </tr>\n",
       "    <tr>\n",
       "      <th>1</th>\n",
       "      <td>804228</td>\n",
       "      <td>01:45.2</td>\n",
       "      <td>control</td>\n",
       "      <td>old_page</td>\n",
       "      <td>0</td>\n",
       "      <td>US</td>\n",
       "      <td>1</td>\n",
       "      <td>45.2</td>\n",
       "      <td>105.2</td>\n",
       "    </tr>\n",
       "    <tr>\n",
       "      <th>2</th>\n",
       "      <td>661590</td>\n",
       "      <td>55:06.2</td>\n",
       "      <td>treatment</td>\n",
       "      <td>new_page</td>\n",
       "      <td>0</td>\n",
       "      <td>US</td>\n",
       "      <td>55</td>\n",
       "      <td>6.2</td>\n",
       "      <td>3306.2</td>\n",
       "    </tr>\n",
       "    <tr>\n",
       "      <th>3</th>\n",
       "      <td>853541</td>\n",
       "      <td>28:03.1</td>\n",
       "      <td>treatment</td>\n",
       "      <td>new_page</td>\n",
       "      <td>0</td>\n",
       "      <td>US</td>\n",
       "      <td>28</td>\n",
       "      <td>3.1</td>\n",
       "      <td>1683.1</td>\n",
       "    </tr>\n",
       "    <tr>\n",
       "      <th>4</th>\n",
       "      <td>864975</td>\n",
       "      <td>52:26.2</td>\n",
       "      <td>control</td>\n",
       "      <td>old_page</td>\n",
       "      <td>1</td>\n",
       "      <td>US</td>\n",
       "      <td>52</td>\n",
       "      <td>26.2</td>\n",
       "      <td>3146.2</td>\n",
       "    </tr>\n",
       "  </tbody>\n",
       "</table>\n",
       "</div>"
      ],
      "text/plain": [
       "   user_id timestamp      group landing_page  converted country  minutes  \\\n",
       "0   851104   11:48.6    control     old_page          0      US       11   \n",
       "1   804228   01:45.2    control     old_page          0      US        1   \n",
       "2   661590   55:06.2  treatment     new_page          0      US       55   \n",
       "3   853541   28:03.1  treatment     new_page          0      US       28   \n",
       "4   864975   52:26.2    control     old_page          1      US       52   \n",
       "\n",
       "   seconds  total_seconds  \n",
       "0     48.6          708.6  \n",
       "1     45.2          105.2  \n",
       "2      6.2         3306.2  \n",
       "3      3.1         1683.1  \n",
       "4     26.2         3146.2  "
      ]
     },
     "execution_count": 470,
     "metadata": {},
     "output_type": "execute_result"
    }
   ],
   "source": [
    "df['minutes'] = df['timestamp'].str.split(':').str[0].astype(int)\n",
    "df['seconds'] = df['timestamp'].str.split(':').str[1].astype(float)\n",
    "\n",
    "# Вычислим общее время\n",
    "df['total_seconds'] = df['minutes'] * 60 + df['seconds']\n",
    "\n",
    "df.head()"
   ]
  },
  {
   "cell_type": "markdown",
   "id": "aadf769c-b760-4300-9766-a1e06e116d30",
   "metadata": {},
   "source": [
    "## 3. Проверка гипотез (A/B Test)\n",
    "### 3.1 Проверка распределений"
   ]
  },
  {
   "cell_type": "code",
   "execution_count": 550,
   "id": "0e22f18c-7467-433c-be85-f50125f0bdc7",
   "metadata": {},
   "outputs": [
    {
     "data": {
      "image/png": "[encoded data removed]",
      "text/plain": [
       "<Figure size 700x400 with 1 Axes>"
      ]
     },
     "metadata": {},
     "output_type": "display_data"
    },
    {
     "data": {
      "text/plain": [
       "group\n",
       "treatment    145311\n",
       "control      145274\n",
       "Name: count, dtype: int64"
      ]
     },
     "execution_count": 550,
     "metadata": {},
     "output_type": "execute_result"
    }
   ],
   "source": [
    "plt.figure(figsize=(7, 4))\n",
    "df['group'].value_counts().plot(kind='bar', color='skyblue', edgecolor='black')\n",
    "plt.xlabel(\"Группа\")\n",
    "plt.ylabel(\"Кол-во пользователей\")\n",
    "plt.title(\"Кол-во пользователей по группам\")\n",
    "plt.xticks(rotation=0)\n",
    "plt.grid(axis='y', linestyle=\"--\", alpha=0.3)\n",
    "plt.show()\n",
    "\n",
    "df['group'].value_counts()"
   ]
  },
  {
   "cell_type": "markdown",
   "id": "7a119802-1cc6-4416-86f9-ced069a6f4ca",
   "metadata": {},
   "source": [
    "Группа A и группа B распределены почти поровну"
   ]
  },
  {
   "cell_type": "code",
   "execution_count": 599,
   "id": "3230e6bf-9690-42a3-a676-8b1742efd8b4",
   "metadata": {},
   "outputs": [
    {
     "data": {
      "image/png": "[encoded data removed]",
      "text/plain": [
       "<Figure size 700x400 with 1 Axes>"
      ]
     },
     "metadata": {},
     "output_type": "display_data"
    },
    {
     "data": {
      "text/plain": [
       "country\n",
       "US    203620\n",
       "UK     72466\n",
       "CA     14499\n",
       "Name: count, dtype: int64"
      ]
     },
     "execution_count": 599,
     "metadata": {},
     "output_type": "execute_result"
    }
   ],
   "source": [
    "plt.figure(figsize=(7, 4))\n",
    "df['country'].value_counts().plot(kind='bar', color='skyblue', edgecolor='black')\n",
    "plt.title(\"Кол-во пользователей по странам\")\n",
    "plt.ylabel(\"Кол-во пользователей\")\n",
    "plt.xlabel(\"Страна\")\n",
    "plt.xticks(rotation=0)\n",
    "plt.grid(axis='y', linestyle='--', alpha=0.6)\n",
    "plt.show()\n",
    "\n",
    "df['country'].value_counts()"
   ]
  },
  {
   "cell_type": "markdown",
   "id": "d75c6201-d5ee-40b8-b582-014b8716778e",
   "metadata": {},
   "source": [
    "Пользователей из US больше более чем в 2 раза, чем пользователей из UK и CA вместе взятых"
   ]
  },
  {
   "cell_type": "markdown",
   "id": "df44774b-6eab-473d-ac8b-f55b059a5f81",
   "metadata": {},
   "source": [
    "### 3.2 Составлене гипотез  \n",
    "• H₀: новая страница не увеличит конверсию  \n",
    "• H₁: новая страница увеличит конверсию  \n",
    "• Гипотеза, что эффект различается по странам"
   ]
  },
  {
   "cell_type": "markdown",
   "id": "efe660a0-5e62-4d1a-a022-163a1fdc77f7",
   "metadata": {},
   "source": [
    "### 3.3 Проверка гипотез"
   ]
  },
  {
   "cell_type": "code",
   "execution_count": 376,
   "id": "afa30524-f2e8-459d-ba07-25fe76dbcaa7",
   "metadata": {},
   "outputs": [
    {
     "data": {
      "text/html": [
       "<div>\n",
       "<style scoped>\n",
       "    .dataframe tbody tr th:only-of-type {\n",
       "        vertical-align: middle;\n",
       "    }\n",
       "\n",
       "    .dataframe tbody tr th {\n",
       "        vertical-align: top;\n",
       "    }\n",
       "\n",
       "    .dataframe thead th {\n",
       "        text-align: right;\n",
       "    }\n",
       "</style>\n",
       "<table border=\"1\" class=\"dataframe\">\n",
       "  <thead>\n",
       "    <tr style=\"text-align: right;\">\n",
       "      <th></th>\n",
       "      <th>convertion</th>\n",
       "      <th>count</th>\n",
       "    </tr>\n",
       "    <tr>\n",
       "      <th>group</th>\n",
       "      <th></th>\n",
       "      <th></th>\n",
       "    </tr>\n",
       "  </thead>\n",
       "  <tbody>\n",
       "    <tr>\n",
       "      <th>control</th>\n",
       "      <td>0.120386</td>\n",
       "      <td>17489</td>\n",
       "    </tr>\n",
       "    <tr>\n",
       "      <th>treatment</th>\n",
       "      <td>0.118807</td>\n",
       "      <td>17264</td>\n",
       "    </tr>\n",
       "  </tbody>\n",
       "</table>\n",
       "</div>"
      ],
      "text/plain": [
       "           convertion  count\n",
       "group                       \n",
       "control      0.120386  17489\n",
       "treatment    0.118807  17264"
      ]
     },
     "execution_count": 376,
     "metadata": {},
     "output_type": "execute_result"
    }
   ],
   "source": [
    "convertion_rate = df.groupby('group')['converted'].agg(['mean', 'sum'])\n",
    "convertion_rate.rename(columns={'mean': 'convertion', 'sum': 'count'})"
   ]
  },
  {
   "cell_type": "code",
   "execution_count": 368,
   "id": "ee3de717-d521-41ee-b0ee-b3b1a9ae8a26",
   "metadata": {},
   "outputs": [],
   "source": [
    "sample_1=df[df['group']=='control']['converted']\n",
    "sample_2=df[df['group']=='treatment']['converted']"
   ]
  },
  {
   "cell_type": "code",
   "execution_count": 543,
   "id": "aa82f863-f1f5-48f0-a457-b8aa11d90e84",
   "metadata": {},
   "outputs": [
    {
     "name": "stdout",
     "output_type": "stream",
     "text": [
      "p_value: 0.1897\n",
      "Новая страница НЕ увеличила конверсию\n"
     ]
    }
   ],
   "source": [
    "#Проверим гипотезы с помощью t-теста \n",
    "\n",
    "results = st.ttest_ind(sample_1, sample_2, equal_var=False)\n",
    "\n",
    "print(f\"p_value: {results.pvalue:.4f}\")\n",
    "if results.pvalue < 0.05:\n",
    "    print('Новая страница увеличилаа конверсию')\n",
    "else:\n",
    "    print('Новая страница НЕ увеличила конверсию')"
   ]
  },
  {
   "cell_type": "code",
   "execution_count": 545,
   "id": "dd4eb89f-e8fa-4bb6-a762-6080d0da797c",
   "metadata": {},
   "outputs": [
    {
     "name": "stdout",
     "output_type": "stream",
     "text": [
      "P-value: 0.1897\n",
      "Новая страница НЕ увеличила конверсию\n"
     ]
    }
   ],
   "source": [
    "#Проверим гипотезы с помощью z-теста \n",
    "\n",
    "convertion = [sample_1.sum(), sample_2.sum()]\n",
    "total = [sample_1.count(), sample_2.count()]\n",
    "\n",
    "z_stat, p_value = proportions_ztest(convertion, total, alternative='two-sided')\n",
    "\n",
    "print(f\"P-value: {p_value:.4f}\")\n",
    "if p_value < 0.05:\n",
    "    print('Новая страница увеличилаа конверсию')\n",
    "else:\n",
    "    print('Новая страница НЕ увеличила конверсию')"
   ]
  },
  {
   "cell_type": "markdown",
   "id": "e554ae69-5786-4104-a7f5-233b21bf0ee6",
   "metadata": {},
   "source": [
    "Оба теста показали, что новый дизайн страницы не увлечил конверсию. Но вдруг что-то изменилось в отдельных групах по странам?\n",
    "Проведем z-тесты для каждой страны:\n",
    "### 3.4 Анализ по сегментам (странам)"
   ]
  },
  {
   "cell_type": "code",
   "execution_count": 601,
   "id": "adb3f6dc-d1ed-4b1d-86e2-d84fc56f1747",
   "metadata": {},
   "outputs": [
    {
     "data": {
      "image/png": "[encoded data removed]",
      "text/plain": [
       "<Figure size 900x400 with 1 Axes>"
      ]
     },
     "metadata": {},
     "output_type": "display_data"
    }
   ],
   "source": [
    "country_convertion.rename(columns={'mean': 'convertion', 'sum': 'count'})\n",
    "\n",
    "plt.figure(figsize=(9, 4))\n",
    "sns.barplot(data=country_convertion, x='country', y='mean', hue='group', palette='Set1')\n",
    "plt.title('Конверсия по странам (A/B группы)')\n",
    "plt.xlabel('Страна')\n",
    "plt.ylabel('Конверсия (%)')\n",
    "plt.legend(title='Группа')\n",
    "plt.grid(alpha=0.3)\n",
    "plt.show()"
   ]
  },
  {
   "cell_type": "markdown",
   "id": "2efa241c-bb6e-4d6e-8b5e-7922c98a66a0",
   "metadata": {},
   "source": [
    "На первый взгляд, конверсия во всех группах одинаковая"
   ]
  },
  {
   "cell_type": "code",
   "execution_count": 610,
   "id": "8b80d66b-b43b-4820-a59a-af0ffbe1384e",
   "metadata": {},
   "outputs": [],
   "source": [
    "#Разобъем данные на отдельные выборки:\n",
    "sample_CA_1=df[(df['group']=='control')&(df['country']=='CA')]['converted']\n",
    "sample_CA_2=df[(df['group']=='treatment')&(df['country']=='CA')]['converted']\n",
    "\n",
    "sample_UK_1=df[(df['group']=='control')&(df['country']=='UK')]['converted']\n",
    "sample_UK_2=df[(df['group']=='treatment')&(df['country']=='UK')]['converted']\n",
    "\n",
    "sample_US_1=df[(df['group']=='control')&(df['country']=='US')]['converted']\n",
    "sample_US_2=df[(df['group']=='treatment')&(df['country']=='US')]['converted']"
   ]
  },
  {
   "cell_type": "code",
   "execution_count": 396,
   "id": "cc03ea94-a3a7-46d7-88da-6b1b184fa8b6",
   "metadata": {},
   "outputs": [
    {
     "name": "stdout",
     "output_type": "stream",
     "text": [
      "P-value: 0.1947\n",
      "Новая страница НЕ увеличила конверсию для Канады\n"
     ]
    }
   ],
   "source": [
    "#Проверка гипотезы для Канады\n",
    "convertion_CA = [sample_CA_1.sum(), sample_CA_2.sum()]\n",
    "total_CA = [sample_CA_1.count(), sample_CA_2.count()]\n",
    "\n",
    "z_stat, p_value = proportions_ztest(convertion_CA, total_CA, alternative='two-sided')\n",
    "\n",
    "print(f\"P-value: {p_value:.4f}\")\n",
    "if p_value < 0.05:\n",
    "    print('Новая страница увеличилаа конверсию для Канады')\n",
    "else:\n",
    "    print('Новая страница НЕ увеличила конверсию для Канады')"
   ]
  },
  {
   "cell_type": "code",
   "execution_count": 612,
   "id": "e04cb3ff-845f-4928-82d2-aa203fc259ae",
   "metadata": {},
   "outputs": [
    {
     "name": "stdout",
     "output_type": "stream",
     "text": [
      "P-value: 0.6349\n",
      "Новая страница НЕ увеличила конверсию для Великобритании\n"
     ]
    }
   ],
   "source": [
    "#Проверка гипотезы для Великобритании\n",
    "convertion_UK = [sample_UK_1.sum(), sample_UK_2.sum()]\n",
    "total_UK = [sample_UK_1.count(), sample_UK_2.count()]\n",
    "\n",
    "z_stat, p_value = proportions_ztest(convertion_UK, total_UK, alternative='two-sided')\n",
    "\n",
    "print(f\"P-value: {p_value:.4f}\")\n",
    "if p_value < 0.05:\n",
    "    print('Новая страница увеличилаа конверсию для Великобритании')\n",
    "else:\n",
    "    print('Новая страница НЕ увеличила конверсию для Великобритании')"
   ]
  },
  {
   "cell_type": "code",
   "execution_count": 614,
   "id": "286883aa-1817-4e7d-ad78-496602f72128",
   "metadata": {},
   "outputs": [
    {
     "name": "stdout",
     "output_type": "stream",
     "text": [
      "P-value: 0.1321\n",
      "Новая страница НЕ увеличила конверсию для США\n"
     ]
    }
   ],
   "source": [
    "#Проверка гипотезы для США\n",
    "convertion_US = [sample_US_1.sum(), sample_US_2.sum()]\n",
    "total_US = [sample_US_1.count(), sample_US_2.count()]\n",
    "\n",
    "z_stat, p_value = proportions_ztest(convertion_US, total_US, alternative='two-sided')\n",
    "\n",
    "print(f\"P-value: {p_value:.4f}\")\n",
    "if p_value < 0.05:\n",
    "    print('Новая страница увеличилаа конверсию для США')\n",
    "else:\n",
    "    print('Новая страница НЕ увеличила конверсию для США')"
   ]
  },
  {
   "cell_type": "markdown",
   "id": "091a47f1-0939-44e8-8e1e-9484c95f2a7a",
   "metadata": {},
   "source": [
    "## 4. Заключение"
   ]
  },
  {
   "cell_type": "markdown",
   "id": "4e0482ba-0593-40fb-b093-145b277786c1",
   "metadata": {},
   "source": [
    "В проекте был проведён анализ результатов A/B-теста, целью которого было определить, повлиял ли реддизайн главной страницы на конверсию пользователей сайта.  \n",
    "После загрузки и первичной проверки данных были выявлены ошибки в структуре выборки:некоторые пользователи могли видеть как старую, так и новую версию страницы. Это искажало распределение трафика и могло привести к ложным выводам. Для повышения корректности анализа были оставлены только уникальные пользователи.  \n",
    "\n",
    "Далее данные были очищены и преобразованы:  \n",
    "-унифицирован формат времени (timestamp)  \n",
    "-проверена сбалансированность выборок между контрольной (control) и тестовой (treatment) группами  \n",
    "-рассчитана конверсия по странам и по группам.  \n",
    "\n",
    "Для проверки статистической значимости разницы в конверсии был проведён z-тест для пропорций, а также t-тест в качестве дополнительной проверки.\n",
    "Оба теста показали p-value > 0.05, что не позволяет отвергнуть нулевую гипотезу. Это означает, что между контрольной и тестовой группами нет статистически значимых различий.\n",
    "Дополнительный анализ по странам также не выявил сегментов, в которых новая версия страницы показала бы улучшение конверсии. Конверсия осталась на прежнем уровне во всех регионах.  \n",
    "\n",
    "**Вывод:**  \n",
    "Редизайн страницы не оказал влияния на поведение пользователей и не привёл к росту ключевой метрики — конверсии. Вероятнее всего, изменения в интерфейсе носили визуальный или несущественный характер, не затрагивающий этап принятия решения пользователем."
   ]
  }
 ],
 "metadata": {
  "kernelspec": {
   "display_name": "Python 3 (ipykernel)",
   "language": "python",
   "name": "python3"
  },
  "language_info": {
   "codemirror_mode": {
    "name": "ipython",
    "version": 3
   },
   "file_extension": ".py",
   "mimetype": "text/x-python",
   "name": "python",
   "nbconvert_exporter": "python",
   "pygments_lexer": "ipython3",
   "version": "3.12.7"
  }
 },
 "nbformat": 4,
 "nbformat_minor": 5
}
